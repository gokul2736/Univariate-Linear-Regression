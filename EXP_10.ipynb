{
  "nbformat": 4,
  "nbformat_minor": 0,
  "metadata": {
    "colab": {
      "provenance": [],
      "authorship_tag": "ABX9TyOoOBtMUXyOfSeleeoUU93P",
      "include_colab_link": true
    },
    "kernelspec": {
      "name": "python3",
      "display_name": "Python 3"
    },
    "language_info": {
      "name": "python"
    }
  },
  "cells": [
    {
      "cell_type": "markdown",
      "metadata": {
        "id": "view-in-github",
        "colab_type": "text"
      },
      "source": [
        "<a href=\"https://colab.research.google.com/github/gokul2736/Univariate-Linear-Regression/blob/main/EXP_10.ipynb\" target=\"_parent\"><img src=\"https://colab.research.google.com/assets/colab-badge.svg\" alt=\"Open In Colab\"/></a>"
      ]
    },
    {
      "cell_type": "code",
      "execution_count": null,
      "metadata": {
        "id": "OmdY2k3rVpoj"
      },
      "outputs": [],
      "source": [
        "import pandas as pd\n",
        "from sklearn import linear_model\n",
        "df = pd.read_csv(\"carsemission.csv\")\n",
        "df.info()\n",
        "df.head()\n",
        "df.tail()\n",
        "X = df[['Weight', 'Volume']]\n",
        "y = df['CO2']\n",
        "regr = linear_model.LinearRegression()\n",
        "regr.fit(X, y)\n",
        "print('Coefficients:', regr.coef_)\n",
        "print('Intercept:',regr.intercept_)\n",
        "predictedCO2 = regr.predict([[3300, 1300]])\n",
        "print('Predicted CO2 for the corresponding weight and volume',predictedCO2)"
      ]
    }
  ]
}